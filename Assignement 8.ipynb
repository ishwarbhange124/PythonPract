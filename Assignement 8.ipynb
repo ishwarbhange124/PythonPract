{
 "cells": [
  {
   "cell_type": "code",
   "execution_count": null,
   "id": "ba7a9162-56cb-42b7-9408-40f1079afde7",
   "metadata": {},
   "outputs": [],
   "source": []
  }
 ],
 "metadata": {
  "kernelspec": {
   "display_name": "",
   "name": ""
  },
  "language_info": {
   "name": ""
  }
 },
 "nbformat": 4,
 "nbformat_minor": 5
}
